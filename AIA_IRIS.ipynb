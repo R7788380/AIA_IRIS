{
 "cells": [
  {
   "cell_type": "code",
   "execution_count": 1,
   "metadata": {},
   "outputs": [],
   "source": [
    "# from sklearn.datasets import load_iris\n",
    "# iris = load_iris()\n",
    "# X = iris.data\n",
    "# y = iris.target"
   ]
  },
  {
   "cell_type": "code",
   "execution_count": 1,
   "metadata": {},
   "outputs": [
    {
     "data": {
      "text/html": [
       "<div>\n",
       "<style>\n",
       "    .dataframe thead tr:only-child th {\n",
       "        text-align: right;\n",
       "    }\n",
       "\n",
       "    .dataframe thead th {\n",
       "        text-align: left;\n",
       "    }\n",
       "\n",
       "    .dataframe tbody tr th {\n",
       "        vertical-align: top;\n",
       "    }\n",
       "</style>\n",
       "<table border=\"1\" class=\"dataframe\">\n",
       "  <thead>\n",
       "    <tr style=\"text-align: right;\">\n",
       "      <th></th>\n",
       "      <th>id</th>\n",
       "      <th>花萼長度</th>\n",
       "      <th>花萼寬度</th>\n",
       "      <th>花瓣長度</th>\n",
       "      <th>花瓣寬度</th>\n",
       "      <th>屬種</th>\n",
       "      <th>type</th>\n",
       "    </tr>\n",
       "  </thead>\n",
       "  <tbody>\n",
       "    <tr>\n",
       "      <th>0</th>\n",
       "      <td>1</td>\n",
       "      <td>5.4</td>\n",
       "      <td>3.7</td>\n",
       "      <td>1.5</td>\n",
       "      <td>0.2</td>\n",
       "      <td>Iris-setosa</td>\n",
       "      <td>1</td>\n",
       "    </tr>\n",
       "    <tr>\n",
       "      <th>1</th>\n",
       "      <td>2</td>\n",
       "      <td>4.8</td>\n",
       "      <td>3.4</td>\n",
       "      <td>1.6</td>\n",
       "      <td>0.2</td>\n",
       "      <td>Iris-setosa</td>\n",
       "      <td>1</td>\n",
       "    </tr>\n",
       "    <tr>\n",
       "      <th>2</th>\n",
       "      <td>3</td>\n",
       "      <td>4.8</td>\n",
       "      <td>3.0</td>\n",
       "      <td>1.4</td>\n",
       "      <td>0.1</td>\n",
       "      <td>Iris-setosa</td>\n",
       "      <td>1</td>\n",
       "    </tr>\n",
       "    <tr>\n",
       "      <th>3</th>\n",
       "      <td>4</td>\n",
       "      <td>4.3</td>\n",
       "      <td>3.0</td>\n",
       "      <td>1.1</td>\n",
       "      <td>0.1</td>\n",
       "      <td>Iris-setosa</td>\n",
       "      <td>1</td>\n",
       "    </tr>\n",
       "    <tr>\n",
       "      <th>4</th>\n",
       "      <td>5</td>\n",
       "      <td>5.8</td>\n",
       "      <td>4.0</td>\n",
       "      <td>1.2</td>\n",
       "      <td>0.2</td>\n",
       "      <td>Iris-setosa</td>\n",
       "      <td>1</td>\n",
       "    </tr>\n",
       "  </tbody>\n",
       "</table>\n",
       "</div>"
      ],
      "text/plain": [
       "   id  花萼長度  花萼寬度  花瓣長度  花瓣寬度           屬種  type\n",
       "0   1   5.4   3.7   1.5   0.2  Iris-setosa     1\n",
       "1   2   4.8   3.4   1.6   0.2  Iris-setosa     1\n",
       "2   3   4.8   3.0   1.4   0.1  Iris-setosa     1\n",
       "3   4   4.3   3.0   1.1   0.1  Iris-setosa     1\n",
       "4   5   5.8   4.0   1.2   0.2  Iris-setosa     1"
      ]
     },
     "execution_count": 1,
     "metadata": {},
     "output_type": "execute_result"
    }
   ],
   "source": [
    "import numpy as np\n",
    "import pandas as pd\n",
    "import matplotlib.pyplot as plt\n",
    "data = pd.read_csv('train.csv')\n",
    "data.head()"
   ]
  },
  {
   "cell_type": "code",
   "execution_count": 2,
   "metadata": {},
   "outputs": [],
   "source": [
    "col_dict = {'花萼長度':'SepalLength(cm)','花萼寬度':'SepalWidth(cm)','花瓣長度':'PetalLength(cm)','花瓣寬度':'PetalWidth(cm)','屬種':'target'}\n",
    "data = data.rename(columns=col_dict)"
   ]
  },
  {
   "cell_type": "markdown",
   "metadata": {},
   "source": [
    "# Row data \n",
    "\n",
    "* 123 rows, 3 features, 4 labels"
   ]
  },
  {
   "cell_type": "code",
   "execution_count": 3,
   "metadata": {},
   "outputs": [
    {
     "name": "stdout",
     "output_type": "stream",
     "text": [
      "(123, 7)\n",
      "(4,)\n",
      "Num for each labels: \n",
      " Iris-virginica     40\n",
      "Iris-setosa        40\n",
      "Iris-versicolor    40\n",
      "Iris-new_type       3\n",
      "Name: target, dtype: int64\n"
     ]
    }
   ],
   "source": [
    "print(data.shape) # rowdata: 123 rows, 7 columns\n",
    "print(data.target.unique().shape) # 4 labels\n",
    "print('Num for each labels: ' + '\\n',data.target.value_counts()) # num for each labels"
   ]
  },
  {
   "cell_type": "markdown",
   "metadata": {},
   "source": [
    "## Check NaN for each row"
   ]
  },
  {
   "cell_type": "code",
   "execution_count": 4,
   "metadata": {},
   "outputs": [
    {
     "data": {
      "text/html": [
       "<div>\n",
       "<style>\n",
       "    .dataframe thead tr:only-child th {\n",
       "        text-align: right;\n",
       "    }\n",
       "\n",
       "    .dataframe thead th {\n",
       "        text-align: left;\n",
       "    }\n",
       "\n",
       "    .dataframe tbody tr th {\n",
       "        vertical-align: top;\n",
       "    }\n",
       "</style>\n",
       "<table border=\"1\" class=\"dataframe\">\n",
       "  <thead>\n",
       "    <tr style=\"text-align: right;\">\n",
       "      <th></th>\n",
       "      <th>id</th>\n",
       "      <th>SepalLength(cm)</th>\n",
       "      <th>SepalWidth(cm)</th>\n",
       "      <th>PetalLength(cm)</th>\n",
       "      <th>PetalWidth(cm)</th>\n",
       "      <th>target</th>\n",
       "      <th>type</th>\n",
       "    </tr>\n",
       "  </thead>\n",
       "  <tbody>\n",
       "    <tr>\n",
       "      <th>120</th>\n",
       "      <td>121</td>\n",
       "      <td>NaN</td>\n",
       "      <td>3.0</td>\n",
       "      <td>4.9</td>\n",
       "      <td>1.2</td>\n",
       "      <td>Iris-new_type</td>\n",
       "      <td>4</td>\n",
       "    </tr>\n",
       "    <tr>\n",
       "      <th>121</th>\n",
       "      <td>122</td>\n",
       "      <td>5.2</td>\n",
       "      <td>NaN</td>\n",
       "      <td>5.1</td>\n",
       "      <td>1.8</td>\n",
       "      <td>Iris-new_type</td>\n",
       "      <td>4</td>\n",
       "    </tr>\n",
       "  </tbody>\n",
       "</table>\n",
       "</div>"
      ],
      "text/plain": [
       "      id  SepalLength(cm)  SepalWidth(cm)  PetalLength(cm)  PetalWidth(cm)  \\\n",
       "120  121              NaN             3.0              4.9             1.2   \n",
       "121  122              5.2             NaN              5.1             1.8   \n",
       "\n",
       "            target  type  \n",
       "120  Iris-new_type     4  \n",
       "121  Iris-new_type     4  "
      ]
     },
     "execution_count": 4,
     "metadata": {},
     "output_type": "execute_result"
    }
   ],
   "source": [
    "# check NaN for each column\n",
    "data[data.isnull().any(axis=1)]"
   ]
  },
  {
   "cell_type": "markdown",
   "metadata": {},
   "source": [
    "## Determine whether remove NaN or not"
   ]
  },
  {
   "cell_type": "code",
   "execution_count": 5,
   "metadata": {},
   "outputs": [
    {
     "data": {
      "text/html": [
       "<div>\n",
       "<style>\n",
       "    .dataframe thead tr:only-child th {\n",
       "        text-align: right;\n",
       "    }\n",
       "\n",
       "    .dataframe thead th {\n",
       "        text-align: left;\n",
       "    }\n",
       "\n",
       "    .dataframe tbody tr th {\n",
       "        vertical-align: top;\n",
       "    }\n",
       "</style>\n",
       "<table border=\"1\" class=\"dataframe\">\n",
       "  <thead>\n",
       "    <tr style=\"text-align: right;\">\n",
       "      <th></th>\n",
       "      <th>id</th>\n",
       "      <th>SepalLength(cm)</th>\n",
       "      <th>SepalWidth(cm)</th>\n",
       "      <th>PetalLength(cm)</th>\n",
       "      <th>PetalWidth(cm)</th>\n",
       "      <th>target</th>\n",
       "      <th>type</th>\n",
       "    </tr>\n",
       "  </thead>\n",
       "  <tbody>\n",
       "    <tr>\n",
       "      <th>120</th>\n",
       "      <td>121</td>\n",
       "      <td>NaN</td>\n",
       "      <td>3.0</td>\n",
       "      <td>4.9</td>\n",
       "      <td>1.2</td>\n",
       "      <td>Iris-new_type</td>\n",
       "      <td>4</td>\n",
       "    </tr>\n",
       "    <tr>\n",
       "      <th>121</th>\n",
       "      <td>122</td>\n",
       "      <td>5.2</td>\n",
       "      <td>NaN</td>\n",
       "      <td>5.1</td>\n",
       "      <td>1.8</td>\n",
       "      <td>Iris-new_type</td>\n",
       "      <td>4</td>\n",
       "    </tr>\n",
       "    <tr>\n",
       "      <th>122</th>\n",
       "      <td>123</td>\n",
       "      <td>6.1</td>\n",
       "      <td>3.2</td>\n",
       "      <td>5.1</td>\n",
       "      <td>1.8</td>\n",
       "      <td>Iris-new_type</td>\n",
       "      <td>4</td>\n",
       "    </tr>\n",
       "  </tbody>\n",
       "</table>\n",
       "</div>"
      ],
      "text/plain": [
       "      id  SepalLength(cm)  SepalWidth(cm)  PetalLength(cm)  PetalWidth(cm)  \\\n",
       "120  121              NaN             3.0              4.9             1.2   \n",
       "121  122              5.2             NaN              5.1             1.8   \n",
       "122  123              6.1             3.2              5.1             1.8   \n",
       "\n",
       "            target  type  \n",
       "120  Iris-new_type     4  \n",
       "121  Iris-new_type     4  \n",
       "122  Iris-new_type     4  "
      ]
     },
     "execution_count": 5,
     "metadata": {},
     "output_type": "execute_result"
    }
   ],
   "source": [
    "data[data.target == 'Iris-new_type']"
   ]
  },
  {
   "cell_type": "markdown",
   "metadata": {},
   "source": [
    "## Replace NaN to mean in Iris-new_type"
   ]
  },
  {
   "cell_type": "code",
   "execution_count": 6,
   "metadata": {},
   "outputs": [
    {
     "data": {
      "text/html": [
       "<div>\n",
       "<style>\n",
       "    .dataframe thead tr:only-child th {\n",
       "        text-align: right;\n",
       "    }\n",
       "\n",
       "    .dataframe thead th {\n",
       "        text-align: left;\n",
       "    }\n",
       "\n",
       "    .dataframe tbody tr th {\n",
       "        vertical-align: top;\n",
       "    }\n",
       "</style>\n",
       "<table border=\"1\" class=\"dataframe\">\n",
       "  <thead>\n",
       "    <tr style=\"text-align: right;\">\n",
       "      <th></th>\n",
       "      <th>id</th>\n",
       "      <th>SepalLength(cm)</th>\n",
       "      <th>SepalWidth(cm)</th>\n",
       "      <th>PetalLength(cm)</th>\n",
       "      <th>PetalWidth(cm)</th>\n",
       "      <th>target</th>\n",
       "      <th>type</th>\n",
       "    </tr>\n",
       "  </thead>\n",
       "  <tbody>\n",
       "    <tr>\n",
       "      <th>120</th>\n",
       "      <td>121</td>\n",
       "      <td>5.65</td>\n",
       "      <td>3.0</td>\n",
       "      <td>4.9</td>\n",
       "      <td>1.2</td>\n",
       "      <td>Iris-new_type</td>\n",
       "      <td>4</td>\n",
       "    </tr>\n",
       "    <tr>\n",
       "      <th>121</th>\n",
       "      <td>122</td>\n",
       "      <td>5.20</td>\n",
       "      <td>3.1</td>\n",
       "      <td>5.1</td>\n",
       "      <td>1.8</td>\n",
       "      <td>Iris-new_type</td>\n",
       "      <td>4</td>\n",
       "    </tr>\n",
       "    <tr>\n",
       "      <th>122</th>\n",
       "      <td>123</td>\n",
       "      <td>6.10</td>\n",
       "      <td>3.2</td>\n",
       "      <td>5.1</td>\n",
       "      <td>1.8</td>\n",
       "      <td>Iris-new_type</td>\n",
       "      <td>4</td>\n",
       "    </tr>\n",
       "  </tbody>\n",
       "</table>\n",
       "</div>"
      ],
      "text/plain": [
       "      id  SepalLength(cm)  SepalWidth(cm)  PetalLength(cm)  PetalWidth(cm)  \\\n",
       "120  121             5.65             3.0              4.9             1.2   \n",
       "121  122             5.20             3.1              5.1             1.8   \n",
       "122  123             6.10             3.2              5.1             1.8   \n",
       "\n",
       "            target  type  \n",
       "120  Iris-new_type     4  \n",
       "121  Iris-new_type     4  \n",
       "122  Iris-new_type     4  "
      ]
     },
     "execution_count": 6,
     "metadata": {},
     "output_type": "execute_result"
    }
   ],
   "source": [
    "mean_value = data[data.target == 'Iris-new_type'].mean(axis=0)\n",
    "\n",
    "data['SepalLength(cm)'].fillna(mean_value['SepalLength(cm)'],inplace = True) # replace\n",
    "data['SepalWidth(cm)'].fillna(mean_value['SepalWidth(cm)'],inplace = True)\n",
    "\n",
    "data[data.target == 'Iris-new_type'] # Get"
   ]
  },
  {
   "cell_type": "markdown",
   "metadata": {},
   "source": [
    "# Basic statistic plot"
   ]
  },
  {
   "cell_type": "code",
   "execution_count": 7,
   "metadata": {},
   "outputs": [],
   "source": [
    "descr_data = data[list(col_dict.values())]\n",
    "descr_indx = list(col_dict.values()).copy()\n",
    "descr_indx.remove('target')"
   ]
  },
  {
   "cell_type": "code",
   "execution_count": 8,
   "metadata": {
    "scrolled": false
   },
   "outputs": [
    {
     "name": "stdout",
     "output_type": "stream",
     "text": [
      "Target: Iris-setosa\n",
      "                  count    mean       std  min    25%   50%    75%  max\n",
      "SepalLength(cm)   40.0  5.0425  0.360119  4.3  4.800  5.05  5.225  5.8\n",
      "SepalWidth(cm)    40.0  3.4450  0.396103  2.3  3.200  3.40  3.700  4.4\n",
      "PetalLength(cm)   40.0  1.4675  0.187271  1.0  1.375  1.50  1.600  1.9\n",
      "PetalWidth(cm)    40.0  0.2500  0.113228  0.1  0.200  0.20  0.300  0.6\n",
      "Target: Iris-versicolor\n",
      "                  count    mean       std  min  25%   50%    75%  max\n",
      "SepalLength(cm)   40.0  5.8950  0.451749  5.0  5.6  5.85  6.125  6.8\n",
      "SepalWidth(cm)    40.0  2.7450  0.306301  2.0  2.5  2.80  3.000  3.4\n",
      "PetalLength(cm)   40.0  4.2325  0.467611  3.0  4.0  4.25  4.500  5.1\n",
      "PetalWidth(cm)    40.0  1.3125  0.204046  1.0  1.2  1.30  1.500  1.8\n",
      "Target: Iris-virginica\n",
      "                  count    mean       std  min  25%   50%  75%  max\n",
      "SepalLength(cm)   40.0  6.5925  0.598883  5.6  6.2  6.45  6.9  7.9\n",
      "SepalWidth(cm)    40.0  2.9825  0.322560  2.2  2.8  3.00  3.2  3.8\n",
      "PetalLength(cm)   40.0  5.4975  0.533247  4.8  5.1  5.45  5.7  6.9\n",
      "PetalWidth(cm)    40.0  2.0225  0.274084  1.4  1.8  2.00  2.3  2.5\n",
      "Target: Iris-new_type\n",
      "                  count      mean      std  min    25%   50%    75%  max\n",
      "SepalLength(cm)    3.0  5.650000  0.45000  5.2  5.425  5.65  5.875  6.1\n",
      "SepalWidth(cm)     3.0  3.100000  0.10000  3.0  3.050  3.10  3.150  3.2\n",
      "PetalLength(cm)    3.0  5.033333  0.11547  4.9  5.000  5.10  5.100  5.1\n",
      "PetalWidth(cm)     3.0  1.600000  0.34641  1.2  1.500  1.80  1.800  1.8\n"
     ]
    }
   ],
   "source": [
    "print('Target: Iris-setosa' + '\\n',descr_data[descr_data.target == 'Iris-setosa'].describe().transpose())\n",
    "print('Target: Iris-versicolor' + '\\n',descr_data[descr_data.target == 'Iris-versicolor'].describe().transpose())\n",
    "print('Target: Iris-virginica' + '\\n',descr_data[descr_data.target == 'Iris-virginica'].describe().transpose())\n",
    "print('Target: Iris-new_type' + '\\n',descr_data[descr_data.target == 'Iris-new_type'].describe().transpose())"
   ]
  },
  {
   "cell_type": "markdown",
   "metadata": {},
   "source": [
    "## Variable boxplot (for each target)\n",
    "\n",
    "* PetalLength: 觀察下圖三個物種(除了`new_type`)的花瓣長度明顯不同，且上表7種統計指標中(除了count)都能夠明顯區分出三個物種，尤其以`setosa`而言，上表的統計指標都比其餘兩個物種低很多。\n",
    "\n",
    "---\n",
    "\n",
    "* PetalWidth: 觀察下圖，`setosa`的花瓣寬度明顯較其他物種較低。\n",
    "\n",
    "---\n",
    "\n",
    "* SepalWidth: `setosa`物種的花萼寬度稍高一些，且中位數比其他三個物種的Q3都還要高，若要以此特徵判斷物種，在判斷`setosa`上是一個不錯的指標，而新物種`new_type`因為數量只有3個，而且還使用平均值來替代NaN，若要與其餘三物種比較，可能略為勉強，而以數據的對稱性而言，`virginica`比其餘兩個物種都來的對稱一些(除了`new_type`)。\n",
    "\n",
    "---\n",
    "\n",
    "* SepalLength: 除了`new_type`以外的三個物種的花萼長度也有差異，從下圖觀察並從上表發現在花萼長度的所有統計指標(除了count)依降冪依序為`virginica` $\\rightarrow$ `versicolor` $\\rightarrow$ `setosa`，也是個不錯的feature。\n",
    "\n",
    "---\n",
    "\n",
    "除此之外，觀察盒鬚圖也能大概得知數據分佈是屬於右偏、左偏還是對稱分配。以下圖來說，`SepalLength`的物種`virginica`有稍微右偏，其餘三個物種則趨向於對稱分配，用肉點判斷其實是不太準確的方法，最好的方法是計算偏態係數(skew)或是比較平均值與中位數。\n"
   ]
  },
  {
   "cell_type": "code",
   "execution_count": 9,
   "metadata": {},
   "outputs": [
    {
     "name": "stderr",
     "output_type": "stream",
     "text": [
      "/Users/kangwenwei/anaconda3/lib/python3.6/site-packages/seaborn/categorical.py:2567: UserWarning: The `split` parameter has been renamed to `dodge`.\n",
      "  warnings.warn(msg, UserWarning)\n"
     ]
    },
    {
     "data": {
      "image/png": "[encoded data removed]",
      "text/plain": [
       "<matplotlib.figure.Figure at 0x1a13f78e48>"
      ]
     },
     "metadata": {},
     "output_type": "display_data"
    }
   ],
   "source": [
    "from matplotlib.pylab import rcParams\n",
    "rcParams['figure.figsize'] = 13,9\n",
    "import seaborn\n",
    "plotdd = pd.melt(descr_data,id_vars='target')\n",
    "plotdd = plotdd.sort_values(['target','variable'])\n",
    "\n",
    "meantb = plotdd.groupby(['target','variable']).mean().reset_index()\n",
    "meantb = meantb.sort_values(['target','variable'])\n",
    "\n",
    "pp = seaborn.boxplot(data=plotdd, hue='target',x='variable',y='value')\n",
    "pp = seaborn.stripplot(data=meantb, hue='target',x='variable',y='value',split = True,size=8,\n",
    "                       palette=['#DDDDDD','#DDDDDD','#DDDDDD','#DDDDDD'])\n",
    "handles, labels = pp.get_legend_handles_labels()\n",
    "newlabels = labels[0:4].copy()\n",
    "newlabels.append('mean_value')\n",
    "plt.legend(handles[0:5],newlabels[0:5])\n",
    "\n",
    "plt.show()"
   ]
  },
  {
   "cell_type": "markdown",
   "metadata": {},
   "source": [
    "`virginica`物種的`SepalLength`偏態係數為$0.6 > 0$，為右偏，表示`virginica`這個物種的花萼長度大部分的資料都比較小，只有少數幾筆比較大，所以其平均數 $>$ 中位數。"
   ]
  },
  {
   "cell_type": "code",
   "execution_count": 10,
   "metadata": {},
   "outputs": [
    {
     "data": {
      "text/html": [
       "<div>\n",
       "<style>\n",
       "    .dataframe thead tr:only-child th {\n",
       "        text-align: right;\n",
       "    }\n",
       "\n",
       "    .dataframe thead th {\n",
       "        text-align: left;\n",
       "    }\n",
       "\n",
       "    .dataframe tbody tr th {\n",
       "        vertical-align: top;\n",
       "    }\n",
       "</style>\n",
       "<table border=\"1\" class=\"dataframe\">\n",
       "  <thead>\n",
       "    <tr style=\"text-align: right;\">\n",
       "      <th></th>\n",
       "      <th></th>\n",
       "      <th>value</th>\n",
       "    </tr>\n",
       "    <tr>\n",
       "      <th>variable</th>\n",
       "      <th>target</th>\n",
       "      <th></th>\n",
       "    </tr>\n",
       "  </thead>\n",
       "  <tbody>\n",
       "    <tr>\n",
       "      <th rowspan=\"4\" valign=\"top\">PetalLength(cm)</th>\n",
       "      <th>Iris-new_type</th>\n",
       "      <td>-1.732051</td>\n",
       "    </tr>\n",
       "    <tr>\n",
       "      <th>Iris-setosa</th>\n",
       "      <td>-0.017553</td>\n",
       "    </tr>\n",
       "    <tr>\n",
       "      <th>Iris-versicolor</th>\n",
       "      <td>-0.487246</td>\n",
       "    </tr>\n",
       "    <tr>\n",
       "      <th>Iris-virginica</th>\n",
       "      <td>0.983317</td>\n",
       "    </tr>\n",
       "    <tr>\n",
       "      <th rowspan=\"4\" valign=\"top\">PetalWidth(cm)</th>\n",
       "      <th>Iris-new_type</th>\n",
       "      <td>-1.732051</td>\n",
       "    </tr>\n",
       "    <tr>\n",
       "      <th>Iris-setosa</th>\n",
       "      <td>1.115591</td>\n",
       "    </tr>\n",
       "    <tr>\n",
       "      <th>Iris-versicolor</th>\n",
       "      <td>0.165308</td>\n",
       "    </tr>\n",
       "    <tr>\n",
       "      <th>Iris-virginica</th>\n",
       "      <td>-0.318824</td>\n",
       "    </tr>\n",
       "    <tr>\n",
       "      <th rowspan=\"4\" valign=\"top\">SepalLength(cm)</th>\n",
       "      <th>Iris-new_type</th>\n",
       "      <td>0.000000</td>\n",
       "    </tr>\n",
       "    <tr>\n",
       "      <th>Iris-setosa</th>\n",
       "      <td>0.009863</td>\n",
       "    </tr>\n",
       "    <tr>\n",
       "      <th>Iris-versicolor</th>\n",
       "      <td>0.160843</td>\n",
       "    </tr>\n",
       "    <tr>\n",
       "      <th>Iris-virginica</th>\n",
       "      <td>0.606137</td>\n",
       "    </tr>\n",
       "    <tr>\n",
       "      <th rowspan=\"4\" valign=\"top\">SepalWidth(cm)</th>\n",
       "      <th>Iris-new_type</th>\n",
       "      <td>0.000000</td>\n",
       "    </tr>\n",
       "    <tr>\n",
       "      <th>Iris-setosa</th>\n",
       "      <td>-0.021589</td>\n",
       "    </tr>\n",
       "    <tr>\n",
       "      <th>Iris-versicolor</th>\n",
       "      <td>-0.416645</td>\n",
       "    </tr>\n",
       "    <tr>\n",
       "      <th>Iris-virginica</th>\n",
       "      <td>0.344409</td>\n",
       "    </tr>\n",
       "  </tbody>\n",
       "</table>\n",
       "</div>"
      ],
      "text/plain": [
       "                                    value\n",
       "variable        target                   \n",
       "PetalLength(cm) Iris-new_type   -1.732051\n",
       "                Iris-setosa     -0.017553\n",
       "                Iris-versicolor -0.487246\n",
       "                Iris-virginica   0.983317\n",
       "PetalWidth(cm)  Iris-new_type   -1.732051\n",
       "                Iris-setosa      1.115591\n",
       "                Iris-versicolor  0.165308\n",
       "                Iris-virginica  -0.318824\n",
       "SepalLength(cm) Iris-new_type    0.000000\n",
       "                Iris-setosa      0.009863\n",
       "                Iris-versicolor  0.160843\n",
       "                Iris-virginica   0.606137\n",
       "SepalWidth(cm)  Iris-new_type    0.000000\n",
       "                Iris-setosa     -0.021589\n",
       "                Iris-versicolor -0.416645\n",
       "                Iris-virginica   0.344409"
      ]
     },
     "execution_count": 10,
     "metadata": {},
     "output_type": "execute_result"
    }
   ],
   "source": [
    "plotdd.groupby(['variable','target']).skew()"
   ]
  },
  {
   "cell_type": "markdown",
   "metadata": {},
   "source": [
    "# Compare PetalLength and PetalWidth between target\n",
    "`versicolor`物種的花瓣長度與寬度呈現高度正相關，`setosa`以及`virginica`則呈現低度正相關。"
   ]
  },
  {
   "cell_type": "code",
   "execution_count": 11,
   "metadata": {},
   "outputs": [
    {
     "data": {
      "image/png": "[encoded data removed]",
      "text/plain": [
       "<matplotlib.figure.Figure at 0x111a64d30>"
      ]
     },
     "metadata": {},
     "output_type": "display_data"
    }
   ],
   "source": [
    "seaborn.lmplot(data=descr_data, x='PetalLength(cm)',y='PetalWidth(cm)',hue='target',fit_reg=False)\n",
    "ax = plt.gca()\n",
    "ax.set_title('Petal Comparison',size=20)\n",
    "plt.show()"
   ]
  },
  {
   "cell_type": "code",
   "execution_count": 12,
   "metadata": {},
   "outputs": [
    {
     "data": {
      "text/html": [
       "<div>\n",
       "<style>\n",
       "    .dataframe thead tr:only-child th {\n",
       "        text-align: right;\n",
       "    }\n",
       "\n",
       "    .dataframe thead th {\n",
       "        text-align: left;\n",
       "    }\n",
       "\n",
       "    .dataframe tbody tr th {\n",
       "        vertical-align: top;\n",
       "    }\n",
       "</style>\n",
       "<table border=\"1\" class=\"dataframe\">\n",
       "  <thead>\n",
       "    <tr style=\"text-align: right;\">\n",
       "      <th></th>\n",
       "      <th></th>\n",
       "      <th>PetalLength(cm)</th>\n",
       "      <th>PetalWidth(cm)</th>\n",
       "    </tr>\n",
       "    <tr>\n",
       "      <th>target</th>\n",
       "      <th></th>\n",
       "      <th></th>\n",
       "      <th></th>\n",
       "    </tr>\n",
       "  </thead>\n",
       "  <tbody>\n",
       "    <tr>\n",
       "      <th rowspan=\"2\" valign=\"top\">Iris-new_type</th>\n",
       "      <th>PetalLength(cm)</th>\n",
       "      <td>1.000000</td>\n",
       "      <td>1.000000</td>\n",
       "    </tr>\n",
       "    <tr>\n",
       "      <th>PetalWidth(cm)</th>\n",
       "      <td>1.000000</td>\n",
       "      <td>1.000000</td>\n",
       "    </tr>\n",
       "    <tr>\n",
       "      <th rowspan=\"2\" valign=\"top\">Iris-setosa</th>\n",
       "      <th>PetalLength(cm)</th>\n",
       "      <td>1.000000</td>\n",
       "      <td>0.284171</td>\n",
       "    </tr>\n",
       "    <tr>\n",
       "      <th>PetalWidth(cm)</th>\n",
       "      <td>0.284171</td>\n",
       "      <td>1.000000</td>\n",
       "    </tr>\n",
       "    <tr>\n",
       "      <th rowspan=\"2\" valign=\"top\">Iris-versicolor</th>\n",
       "      <th>PetalLength(cm)</th>\n",
       "      <td>1.000000</td>\n",
       "      <td>0.785712</td>\n",
       "    </tr>\n",
       "    <tr>\n",
       "      <th>PetalWidth(cm)</th>\n",
       "      <td>0.785712</td>\n",
       "      <td>1.000000</td>\n",
       "    </tr>\n",
       "    <tr>\n",
       "      <th rowspan=\"2\" valign=\"top\">Iris-virginica</th>\n",
       "      <th>PetalLength(cm)</th>\n",
       "      <td>1.000000</td>\n",
       "      <td>0.281096</td>\n",
       "    </tr>\n",
       "    <tr>\n",
       "      <th>PetalWidth(cm)</th>\n",
       "      <td>0.281096</td>\n",
       "      <td>1.000000</td>\n",
       "    </tr>\n",
       "  </tbody>\n",
       "</table>\n",
       "</div>"
      ],
      "text/plain": [
       "                                 PetalLength(cm)  PetalWidth(cm)\n",
       "target                                                          \n",
       "Iris-new_type   PetalLength(cm)         1.000000        1.000000\n",
       "                PetalWidth(cm)          1.000000        1.000000\n",
       "Iris-setosa     PetalLength(cm)         1.000000        0.284171\n",
       "                PetalWidth(cm)          0.284171        1.000000\n",
       "Iris-versicolor PetalLength(cm)         1.000000        0.785712\n",
       "                PetalWidth(cm)          0.785712        1.000000\n",
       "Iris-virginica  PetalLength(cm)         1.000000        0.281096\n",
       "                PetalWidth(cm)          0.281096        1.000000"
      ]
     },
     "execution_count": 12,
     "metadata": {},
     "output_type": "execute_result"
    }
   ],
   "source": [
    "descr_data.loc[:,['target','PetalLength(cm)','PetalWidth(cm)']].groupby(['target']).corr()"
   ]
  },
  {
   "cell_type": "markdown",
   "metadata": {},
   "source": [
    "# Compare SepalLength and SepalWidth between target\n",
    "`setosa`物種的花萼長度與寬度呈現高度正相關，`versicolor`以及`virginica`則呈現中度正相關。"
   ]
  },
  {
   "cell_type": "code",
   "execution_count": 13,
   "metadata": {},
   "outputs": [
    {
     "data": {
      "image/png": "[encoded data removed]",
      "text/plain": [
       "<matplotlib.figure.Figure at 0x111a39128>"
      ]
     },
     "metadata": {},
     "output_type": "display_data"
    }
   ],
   "source": [
    "seaborn.lmplot(data=descr_data, x='SepalLength(cm)',y='SepalWidth(cm)',hue='target',fit_reg=False)\n",
    "ax = plt.gca()\n",
    "ax.set_title('Sepal Comparison',size=20)\n",
    "plt.show()"
   ]
  },
  {
   "cell_type": "code",
   "execution_count": 14,
   "metadata": {
    "scrolled": true
   },
   "outputs": [
    {
     "data": {
      "text/html": [
       "<div>\n",
       "<style>\n",
       "    .dataframe thead tr:only-child th {\n",
       "        text-align: right;\n",
       "    }\n",
       "\n",
       "    .dataframe thead th {\n",
       "        text-align: left;\n",
       "    }\n",
       "\n",
       "    .dataframe tbody tr th {\n",
       "        vertical-align: top;\n",
       "    }\n",
       "</style>\n",
       "<table border=\"1\" class=\"dataframe\">\n",
       "  <thead>\n",
       "    <tr style=\"text-align: right;\">\n",
       "      <th></th>\n",
       "      <th></th>\n",
       "      <th>SepalLength(cm)</th>\n",
       "      <th>SepalWidth(cm)</th>\n",
       "    </tr>\n",
       "    <tr>\n",
       "      <th>target</th>\n",
       "      <th></th>\n",
       "      <th></th>\n",
       "      <th></th>\n",
       "    </tr>\n",
       "  </thead>\n",
       "  <tbody>\n",
       "    <tr>\n",
       "      <th rowspan=\"2\" valign=\"top\">Iris-new_type</th>\n",
       "      <th>SepalLength(cm)</th>\n",
       "      <td>1.000000</td>\n",
       "      <td>0.500000</td>\n",
       "    </tr>\n",
       "    <tr>\n",
       "      <th>SepalWidth(cm)</th>\n",
       "      <td>0.500000</td>\n",
       "      <td>1.000000</td>\n",
       "    </tr>\n",
       "    <tr>\n",
       "      <th rowspan=\"2\" valign=\"top\">Iris-setosa</th>\n",
       "      <th>SepalLength(cm)</th>\n",
       "      <td>1.000000</td>\n",
       "      <td>0.734030</td>\n",
       "    </tr>\n",
       "    <tr>\n",
       "      <th>SepalWidth(cm)</th>\n",
       "      <td>0.734030</td>\n",
       "      <td>1.000000</td>\n",
       "    </tr>\n",
       "    <tr>\n",
       "      <th rowspan=\"2\" valign=\"top\">Iris-versicolor</th>\n",
       "      <th>SepalLength(cm)</th>\n",
       "      <td>1.000000</td>\n",
       "      <td>0.413047</td>\n",
       "    </tr>\n",
       "    <tr>\n",
       "      <th>SepalWidth(cm)</th>\n",
       "      <td>0.413047</td>\n",
       "      <td>1.000000</td>\n",
       "    </tr>\n",
       "    <tr>\n",
       "      <th rowspan=\"2\" valign=\"top\">Iris-virginica</th>\n",
       "      <th>SepalLength(cm)</th>\n",
       "      <td>1.000000</td>\n",
       "      <td>0.442636</td>\n",
       "    </tr>\n",
       "    <tr>\n",
       "      <th>SepalWidth(cm)</th>\n",
       "      <td>0.442636</td>\n",
       "      <td>1.000000</td>\n",
       "    </tr>\n",
       "  </tbody>\n",
       "</table>\n",
       "</div>"
      ],
      "text/plain": [
       "                                 SepalLength(cm)  SepalWidth(cm)\n",
       "target                                                          \n",
       "Iris-new_type   SepalLength(cm)         1.000000        0.500000\n",
       "                SepalWidth(cm)          0.500000        1.000000\n",
       "Iris-setosa     SepalLength(cm)         1.000000        0.734030\n",
       "                SepalWidth(cm)          0.734030        1.000000\n",
       "Iris-versicolor SepalLength(cm)         1.000000        0.413047\n",
       "                SepalWidth(cm)          0.413047        1.000000\n",
       "Iris-virginica  SepalLength(cm)         1.000000        0.442636\n",
       "                SepalWidth(cm)          0.442636        1.000000"
      ]
     },
     "execution_count": 14,
     "metadata": {},
     "output_type": "execute_result"
    }
   ],
   "source": [
    "descr_data.loc[:,['target','SepalLength(cm)','SepalWidth(cm)']].groupby(['target']).corr()"
   ]
  },
  {
   "cell_type": "markdown",
   "metadata": {},
   "source": [
    "# Simple train"
   ]
  },
  {
   "cell_type": "code",
   "execution_count": 15,
   "metadata": {},
   "outputs": [],
   "source": [
    "from sklearn.model_selection import train_test_split\n",
    "from sklearn.svm import SVC\n",
    "from sklearn.metrics import classification_report, confusion_matrix\n",
    "from sklearn.preprocessing import LabelEncoder\n",
    "from collections import Counter\n",
    "from time import time"
   ]
  },
  {
   "cell_type": "markdown",
   "metadata": {},
   "source": [
    "## Generate training, validation data"
   ]
  },
  {
   "cell_type": "code",
   "execution_count": 16,
   "metadata": {},
   "outputs": [],
   "source": [
    "descr_data = descr_data[descr_data['target'] != 'Iris-new_type']\n",
    "labelencdoer = LabelEncoder()\n",
    "y = labelencdoer.fit_transform(descr_data['target'])\n",
    "X = descr_data.loc[:,['SepalLength(cm)','SepalWidth(cm)','PetalLength(cm)','PetalWidth(cm)']].values\n",
    "\n",
    "X_train, X_val, y_train, y_val = train_test_split(X, y, random_state = 11, shuffle = True)"
   ]
  },
  {
   "cell_type": "code",
   "execution_count": 17,
   "metadata": {},
   "outputs": [
    {
     "name": "stdout",
     "output_type": "stream",
     "text": [
      "(90, 4)\n",
      "Counter({2: 32, 1: 31, 0: 27})\n",
      "(30, 4)\n",
      "Counter({0: 13, 1: 9, 2: 8})\n"
     ]
    }
   ],
   "source": [
    "print(X_train.shape)\n",
    "print(Counter(y_train))\n",
    "print(X_val.shape)\n",
    "print(Counter(y_val))"
   ]
  },
  {
   "cell_type": "code",
   "execution_count": 18,
   "metadata": {},
   "outputs": [],
   "source": [
    "def svm_tune(X_train, y_train, X_val, y_val, kernel, params, C=1):\n",
    "    for param in params:\n",
    "        start = time()\n",
    "        kernel_dict = {'linear':SVC(kernel='linear',C=param),\n",
    "                       'poly':SVC(kernel='poly',C=1,degree=param),\n",
    "                       'rbf':SVC(kernel='rbf',C=1,gamma=param)}\n",
    "        \n",
    "        if kernel in kernel_dict:\n",
    "            model = kernel_dict[kernel]\n",
    "            model.fit(X_train, y_train)\n",
    "            \n",
    "            train_true, train_pred = y_train, model.predict(X_train)\n",
    "            val_true, val_pred = y_val, model.predict(X_val)\n",
    "            \n",
    "        if kernel == 'linear':\n",
    "            print('Linear svm for C:%.2f'%param,'\\n','Testing data' + '\\n', \n",
    "                  classification_report(y_true=val_true, y_pred=val_pred),'\\n',\n",
    "                  confusion_matrix(y_true=val_true, y_pred=val_pred))\n",
    "        elif kernel == 'poly':\n",
    "            print('Polynomial svm for degree:%.2f'%param,'\\n','Testing data' + '\\n', \n",
    "                  classification_report(y_true=val_true, y_pred=val_pred),'\\n',\n",
    "                  confusion_matrix(y_true=val_true, y_pred=val_pred))\n",
    "        elif kernel == 'rbf':\n",
    "            print('RBF svm for gamma:%.2f'%param,'\\n','Testing data' + '\\n', \n",
    "                  classification_report(y_true=val_true, y_pred=val_pred),'\\n',\n",
    "                  confusion_matrix(y_true=val_true, y_pred=val_pred))\n",
    "        elasped = (time() - start)\n",
    "        print('Time used:%.3f' % elasped + 's')"
   ]
  },
  {
   "cell_type": "markdown",
   "metadata": {},
   "source": [
    "## Linear svm performance on testing data in various C"
   ]
  },
  {
   "cell_type": "code",
   "execution_count": 19,
   "metadata": {
    "scrolled": true
   },
   "outputs": [
    {
     "name": "stdout",
     "output_type": "stream",
     "text": [
      "Linear svm for C:0.01 \n",
      " Testing data\n",
      "              precision    recall  f1-score   support\n",
      "\n",
      "          0       1.00      1.00      1.00        13\n",
      "          1       1.00      0.89      0.94         9\n",
      "          2       0.89      1.00      0.94         8\n",
      "\n",
      "avg / total       0.97      0.97      0.97        30\n",
      " \n",
      " [[13  0  0]\n",
      " [ 0  8  1]\n",
      " [ 0  0  8]]\n",
      "Time used:0.007s\n",
      "Linear svm for C:0.10 \n",
      " Testing data\n",
      "              precision    recall  f1-score   support\n",
      "\n",
      "          0       1.00      1.00      1.00        13\n",
      "          1       1.00      1.00      1.00         9\n",
      "          2       1.00      1.00      1.00         8\n",
      "\n",
      "avg / total       1.00      1.00      1.00        30\n",
      " \n",
      " [[13  0  0]\n",
      " [ 0  9  0]\n",
      " [ 0  0  8]]\n",
      "Time used:0.004s\n",
      "Linear svm for C:1.00 \n",
      " Testing data\n",
      "              precision    recall  f1-score   support\n",
      "\n",
      "          0       1.00      1.00      1.00        13\n",
      "          1       1.00      1.00      1.00         9\n",
      "          2       1.00      1.00      1.00         8\n",
      "\n",
      "avg / total       1.00      1.00      1.00        30\n",
      " \n",
      " [[13  0  0]\n",
      " [ 0  9  0]\n",
      " [ 0  0  8]]\n",
      "Time used:0.006s\n",
      "Linear svm for C:10.00 \n",
      " Testing data\n",
      "              precision    recall  f1-score   support\n",
      "\n",
      "          0       1.00      1.00      1.00        13\n",
      "          1       1.00      1.00      1.00         9\n",
      "          2       1.00      1.00      1.00         8\n",
      "\n",
      "avg / total       1.00      1.00      1.00        30\n",
      " \n",
      " [[13  0  0]\n",
      " [ 0  9  0]\n",
      " [ 0  0  8]]\n",
      "Time used:0.005s\n"
     ]
    }
   ],
   "source": [
    "params = [0.01,0.1,1,10]\n",
    "linear = svm_tune(X_train=X_train, y_train=y_train, X_val=X_val, y_val=y_val, kernel='linear', params = params)"
   ]
  },
  {
   "cell_type": "markdown",
   "metadata": {},
   "source": [
    "## Polynomial svm performance on testing data in various degree"
   ]
  },
  {
   "cell_type": "code",
   "execution_count": 20,
   "metadata": {
    "scrolled": true
   },
   "outputs": [
    {
     "name": "stdout",
     "output_type": "stream",
     "text": [
      "Polynomial svm for degree:1.00 \n",
      " Testing data\n",
      "              precision    recall  f1-score   support\n",
      "\n",
      "          0       1.00      1.00      1.00        13\n",
      "          1       1.00      1.00      1.00         9\n",
      "          2       1.00      1.00      1.00         8\n",
      "\n",
      "avg / total       1.00      1.00      1.00        30\n",
      " \n",
      " [[13  0  0]\n",
      " [ 0  9  0]\n",
      " [ 0  0  8]]\n",
      "Time used:0.007s\n",
      "Polynomial svm for degree:2.00 \n",
      " Testing data\n",
      "              precision    recall  f1-score   support\n",
      "\n",
      "          0       1.00      1.00      1.00        13\n",
      "          1       1.00      1.00      1.00         9\n",
      "          2       1.00      1.00      1.00         8\n",
      "\n",
      "avg / total       1.00      1.00      1.00        30\n",
      " \n",
      " [[13  0  0]\n",
      " [ 0  9  0]\n",
      " [ 0  0  8]]\n",
      "Time used:0.006s\n",
      "Polynomial svm for degree:3.00 \n",
      " Testing data\n",
      "              precision    recall  f1-score   support\n",
      "\n",
      "          0       1.00      1.00      1.00        13\n",
      "          1       1.00      1.00      1.00         9\n",
      "          2       1.00      1.00      1.00         8\n",
      "\n",
      "avg / total       1.00      1.00      1.00        30\n",
      " \n",
      " [[13  0  0]\n",
      " [ 0  9  0]\n",
      " [ 0  0  8]]\n",
      "Time used:0.006s\n",
      "Polynomial svm for degree:4.00 \n",
      " Testing data\n",
      "              precision    recall  f1-score   support\n",
      "\n",
      "          0       1.00      1.00      1.00        13\n",
      "          1       1.00      1.00      1.00         9\n",
      "          2       1.00      1.00      1.00         8\n",
      "\n",
      "avg / total       1.00      1.00      1.00        30\n",
      " \n",
      " [[13  0  0]\n",
      " [ 0  9  0]\n",
      " [ 0  0  8]]\n",
      "Time used:0.010s\n"
     ]
    }
   ],
   "source": [
    "params = [1,2,3,4]\n",
    "poly = svm_tune(X_train=X_train, y_train=y_train, X_val=X_val, y_val=y_val, kernel='poly', params = params)"
   ]
  },
  {
   "cell_type": "markdown",
   "metadata": {},
   "source": [
    "## RBF svm performance on testing data in various gamma"
   ]
  },
  {
   "cell_type": "code",
   "execution_count": 21,
   "metadata": {
    "scrolled": true
   },
   "outputs": [
    {
     "name": "stdout",
     "output_type": "stream",
     "text": [
      "RBF svm for gamma:0.01 \n",
      " Testing data\n",
      "              precision    recall  f1-score   support\n",
      "\n",
      "          0       1.00      1.00      1.00        13\n",
      "          1       1.00      1.00      1.00         9\n",
      "          2       1.00      1.00      1.00         8\n",
      "\n",
      "avg / total       1.00      1.00      1.00        30\n",
      " \n",
      " [[13  0  0]\n",
      " [ 0  9  0]\n",
      " [ 0  0  8]]\n",
      "Time used:0.006s\n",
      "RBF svm for gamma:0.10 \n",
      " Testing data\n",
      "              precision    recall  f1-score   support\n",
      "\n",
      "          0       1.00      1.00      1.00        13\n",
      "          1       1.00      1.00      1.00         9\n",
      "          2       1.00      1.00      1.00         8\n",
      "\n",
      "avg / total       1.00      1.00      1.00        30\n",
      " \n",
      " [[13  0  0]\n",
      " [ 0  9  0]\n",
      " [ 0  0  8]]\n",
      "Time used:0.005s\n",
      "RBF svm for gamma:1.00 \n",
      " Testing data\n",
      "              precision    recall  f1-score   support\n",
      "\n",
      "          0       1.00      1.00      1.00        13\n",
      "          1       1.00      1.00      1.00         9\n",
      "          2       1.00      1.00      1.00         8\n",
      "\n",
      "avg / total       1.00      1.00      1.00        30\n",
      " \n",
      " [[13  0  0]\n",
      " [ 0  9  0]\n",
      " [ 0  0  8]]\n",
      "Time used:0.006s\n",
      "RBF svm for gamma:10.00 \n",
      " Testing data\n",
      "              precision    recall  f1-score   support\n",
      "\n",
      "          0       1.00      1.00      1.00        13\n",
      "          1       1.00      1.00      1.00         9\n",
      "          2       1.00      1.00      1.00         8\n",
      "\n",
      "avg / total       1.00      1.00      1.00        30\n",
      " \n",
      " [[13  0  0]\n",
      " [ 0  9  0]\n",
      " [ 0  0  8]]\n",
      "Time used:0.007s\n",
      "RBF svm for gamma:100.00 \n",
      " Testing data\n",
      "              precision    recall  f1-score   support\n",
      "\n",
      "          0       1.00      0.15      0.27        13\n",
      "          1       1.00      0.33      0.50         9\n",
      "          2       0.32      1.00      0.48         8\n",
      "\n",
      "avg / total       0.82      0.43      0.39        30\n",
      " \n",
      " [[ 2  0 11]\n",
      " [ 0  3  6]\n",
      " [ 0  0  8]]\n",
      "Time used:0.008s\n"
     ]
    }
   ],
   "source": [
    "params = [0.01,0.1,1,10,100]\n",
    "poly = svm_tune(X_train=X_train, y_train=y_train, X_val=X_val, y_val=y_val, kernel='rbf', params = params)"
   ]
  },
  {
   "cell_type": "markdown",
   "metadata": {},
   "source": [
    "## Summary"
   ]
  },
  {
   "cell_type": "markdown",
   "metadata": {},
   "source": [
    "在驗證集的表現上，三種kernel在特定的參數上都有不錯的表現。\n",
    "\n",
    "* 論效率及表現而言，`linear`是第一選擇，隨著懲罰參數`C`的增加，在validation set上的表現也有一定的水準，而且從confusion matrix看來，最容易被誤分的物種是`versicolor`以及`virginica`，從上面的盒鬚圖中，兩個物種花萼寬度`SepalWidth`在分佈上長得差不多，數值範圍也重疊不少，且從上面的散佈圖看來，兩個物種的花萼寬度也是不太容易區分的。"
   ]
  },
  {
   "cell_type": "markdown",
   "metadata": {},
   "source": [
    "# Predict on testing set"
   ]
  },
  {
   "cell_type": "code",
   "execution_count": 22,
   "metadata": {},
   "outputs": [],
   "source": [
    "test = pd.read_csv('test.csv')\n",
    "test = test.iloc[:,[1,2,3,4]].rename(columns=col_dict)\n",
    "test = test.values"
   ]
  },
  {
   "cell_type": "code",
   "execution_count": 23,
   "metadata": {},
   "outputs": [],
   "source": [
    "model = SVC(kernel='linear',C=1)\n",
    "model.fit(X,y)\n",
    "prediction = model.predict(test)"
   ]
  },
  {
   "cell_type": "code",
   "execution_count": 24,
   "metadata": {},
   "outputs": [
    {
     "data": {
      "text/plain": [
       "array([0, 0, 0, 0, 0, 0, 0, 0, 0, 0, 1, 1, 1, 1, 1, 1, 1, 1, 1, 1, 2, 2,\n",
       "       2, 2, 2, 2, 1, 2, 2, 2])"
      ]
     },
     "execution_count": 24,
     "metadata": {},
     "output_type": "execute_result"
    }
   ],
   "source": [
    "prediction"
   ]
  },
  {
   "cell_type": "code",
   "execution_count": 58,
   "metadata": {},
   "outputs": [],
   "source": [
    "submsn = pd.read_csv('submission.csv')\n",
    "submsn.type = prediction\n",
    "submsn.to_csv('submission.csv',index=False)"
   ]
  },
  {
   "cell_type": "code",
   "execution_count": null,
   "metadata": {},
   "outputs": [],
   "source": []
  }
 ],
 "metadata": {
  "kernelspec": {
   "display_name": "Python 3",
   "language": "python",
   "name": "python3"
  },
  "language_info": {
   "codemirror_mode": {
    "name": "ipython",
    "version": 3
   },
   "file_extension": ".py",
   "mimetype": "text/x-python",
   "name": "python",
   "nbconvert_exporter": "python",
   "pygments_lexer": "ipython3",
   "version": "3.6.3"
  }
 },
 "nbformat": 4,
 "nbformat_minor": 2
}
